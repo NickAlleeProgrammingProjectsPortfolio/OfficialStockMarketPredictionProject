{
 "cells": [
  {
   "cell_type": "code",
   "execution_count": 1,
   "metadata": {},
   "outputs": [
    {
     "data": {
      "text/html": [
       "<div>\n",
       "<style scoped>\n",
       "    .dataframe tbody tr th:only-of-type {\n",
       "        vertical-align: middle;\n",
       "    }\n",
       "\n",
       "    .dataframe tbody tr th {\n",
       "        vertical-align: top;\n",
       "    }\n",
       "\n",
       "    .dataframe thead th {\n",
       "        text-align: right;\n",
       "    }\n",
       "</style>\n",
       "<table border=\"1\" class=\"dataframe\">\n",
       "  <thead>\n",
       "    <tr style=\"text-align: right;\">\n",
       "      <th></th>\n",
       "      <th>Date</th>\n",
       "      <th>Open</th>\n",
       "      <th>High</th>\n",
       "      <th>Low</th>\n",
       "      <th>Close</th>\n",
       "      <th>Volume</th>\n",
       "      <th>high1DayBefore</th>\n",
       "      <th>low1DayBefore</th>\n",
       "      <th>open1DayBefore</th>\n",
       "      <th>close1DayBefore</th>\n",
       "      <th>...</th>\n",
       "      <th>low4DaysBefore</th>\n",
       "      <th>open4DaysBefore</th>\n",
       "      <th>close4DaysBefore</th>\n",
       "      <th>volume4DaysBefore</th>\n",
       "      <th>high5DaysBefore</th>\n",
       "      <th>low5DaysBefore</th>\n",
       "      <th>open5DaysBefore</th>\n",
       "      <th>close5DaysBefore</th>\n",
       "      <th>volume5DaysBefore</th>\n",
       "      <th>Ticker</th>\n",
       "    </tr>\n",
       "  </thead>\n",
       "  <tbody>\n",
       "    <tr>\n",
       "      <th>0</th>\n",
       "      <td>2003-07-22</td>\n",
       "      <td>15.85</td>\n",
       "      <td>15.85</td>\n",
       "      <td>15.85</td>\n",
       "      <td>15.85</td>\n",
       "      <td>100</td>\n",
       "      <td>15.85</td>\n",
       "      <td>15.85</td>\n",
       "      <td>15.85</td>\n",
       "      <td>15.85</td>\n",
       "      <td>...</td>\n",
       "      <td>16.25</td>\n",
       "      <td>16.25</td>\n",
       "      <td>16.25</td>\n",
       "      <td>0</td>\n",
       "      <td>17.00</td>\n",
       "      <td>16.10</td>\n",
       "      <td>17.00</td>\n",
       "      <td>16.25</td>\n",
       "      <td>2200</td>\n",
       "      <td>CORV</td>\n",
       "    </tr>\n",
       "    <tr>\n",
       "      <th>1</th>\n",
       "      <td>2003-07-23</td>\n",
       "      <td>16.00</td>\n",
       "      <td>16.20</td>\n",
       "      <td>16.00</td>\n",
       "      <td>16.20</td>\n",
       "      <td>1600</td>\n",
       "      <td>15.85</td>\n",
       "      <td>15.85</td>\n",
       "      <td>15.85</td>\n",
       "      <td>15.85</td>\n",
       "      <td>...</td>\n",
       "      <td>15.50</td>\n",
       "      <td>15.50</td>\n",
       "      <td>15.50</td>\n",
       "      <td>200</td>\n",
       "      <td>16.25</td>\n",
       "      <td>16.25</td>\n",
       "      <td>16.25</td>\n",
       "      <td>16.25</td>\n",
       "      <td>0</td>\n",
       "      <td>CORV</td>\n",
       "    </tr>\n",
       "    <tr>\n",
       "      <th>2</th>\n",
       "      <td>2003-07-24</td>\n",
       "      <td>16.20</td>\n",
       "      <td>17.50</td>\n",
       "      <td>16.20</td>\n",
       "      <td>17.15</td>\n",
       "      <td>11400</td>\n",
       "      <td>16.20</td>\n",
       "      <td>16.00</td>\n",
       "      <td>16.00</td>\n",
       "      <td>16.20</td>\n",
       "      <td>...</td>\n",
       "      <td>15.70</td>\n",
       "      <td>15.85</td>\n",
       "      <td>15.85</td>\n",
       "      <td>2400</td>\n",
       "      <td>15.50</td>\n",
       "      <td>15.50</td>\n",
       "      <td>15.50</td>\n",
       "      <td>15.50</td>\n",
       "      <td>200</td>\n",
       "      <td>CORV</td>\n",
       "    </tr>\n",
       "    <tr>\n",
       "      <th>3</th>\n",
       "      <td>2003-07-25</td>\n",
       "      <td>17.50</td>\n",
       "      <td>17.50</td>\n",
       "      <td>16.50</td>\n",
       "      <td>16.50</td>\n",
       "      <td>800</td>\n",
       "      <td>17.50</td>\n",
       "      <td>16.20</td>\n",
       "      <td>16.20</td>\n",
       "      <td>17.15</td>\n",
       "      <td>...</td>\n",
       "      <td>15.85</td>\n",
       "      <td>15.85</td>\n",
       "      <td>15.85</td>\n",
       "      <td>0</td>\n",
       "      <td>15.85</td>\n",
       "      <td>15.70</td>\n",
       "      <td>15.85</td>\n",
       "      <td>15.85</td>\n",
       "      <td>2400</td>\n",
       "      <td>CORV</td>\n",
       "    </tr>\n",
       "    <tr>\n",
       "      <th>4</th>\n",
       "      <td>2003-07-28</td>\n",
       "      <td>18.75</td>\n",
       "      <td>18.75</td>\n",
       "      <td>17.50</td>\n",
       "      <td>18.15</td>\n",
       "      <td>200</td>\n",
       "      <td>17.50</td>\n",
       "      <td>16.50</td>\n",
       "      <td>17.50</td>\n",
       "      <td>16.50</td>\n",
       "      <td>...</td>\n",
       "      <td>15.85</td>\n",
       "      <td>15.85</td>\n",
       "      <td>15.85</td>\n",
       "      <td>100</td>\n",
       "      <td>15.85</td>\n",
       "      <td>15.85</td>\n",
       "      <td>15.85</td>\n",
       "      <td>15.85</td>\n",
       "      <td>0</td>\n",
       "      <td>CORV</td>\n",
       "    </tr>\n",
       "  </tbody>\n",
       "</table>\n",
       "<p>5 rows × 32 columns</p>\n",
       "</div>"
      ],
      "text/plain": [
       "         Date   Open   High    Low  Close  Volume  high1DayBefore  \\\n",
       "0  2003-07-22  15.85  15.85  15.85  15.85     100           15.85   \n",
       "1  2003-07-23  16.00  16.20  16.00  16.20    1600           15.85   \n",
       "2  2003-07-24  16.20  17.50  16.20  17.15   11400           16.20   \n",
       "3  2003-07-25  17.50  17.50  16.50  16.50     800           17.50   \n",
       "4  2003-07-28  18.75  18.75  17.50  18.15     200           17.50   \n",
       "\n",
       "   low1DayBefore  open1DayBefore  close1DayBefore  ...  low4DaysBefore  \\\n",
       "0          15.85           15.85            15.85  ...           16.25   \n",
       "1          15.85           15.85            15.85  ...           15.50   \n",
       "2          16.00           16.00            16.20  ...           15.70   \n",
       "3          16.20           16.20            17.15  ...           15.85   \n",
       "4          16.50           17.50            16.50  ...           15.85   \n",
       "\n",
       "   open4DaysBefore  close4DaysBefore  volume4DaysBefore  high5DaysBefore  \\\n",
       "0            16.25             16.25                  0            17.00   \n",
       "1            15.50             15.50                200            16.25   \n",
       "2            15.85             15.85               2400            15.50   \n",
       "3            15.85             15.85                  0            15.85   \n",
       "4            15.85             15.85                100            15.85   \n",
       "\n",
       "   low5DaysBefore  open5DaysBefore  close5DaysBefore  volume5DaysBefore  \\\n",
       "0           16.10            17.00             16.25               2200   \n",
       "1           16.25            16.25             16.25                  0   \n",
       "2           15.50            15.50             15.50                200   \n",
       "3           15.70            15.85             15.85               2400   \n",
       "4           15.85            15.85             15.85                  0   \n",
       "\n",
       "   Ticker  \n",
       "0    CORV  \n",
       "1    CORV  \n",
       "2    CORV  \n",
       "3    CORV  \n",
       "4    CORV  \n",
       "\n",
       "[5 rows x 32 columns]"
      ]
     },
     "execution_count": 1,
     "metadata": {},
     "output_type": "execute_result"
    }
   ],
   "source": [
    "import pandas as pd\n",
    "data = pd.read_csv(\"corvCleanDataset.csv\")\n",
    "data.head()"
   ]
  },
  {
   "cell_type": "code",
   "execution_count": 2,
   "metadata": {},
   "outputs": [],
   "source": [
    "keys = list(data.keys())"
   ]
  },
  {
   "cell_type": "code",
   "execution_count": null,
   "metadata": {},
   "outputs": [],
   "source": [
    "keys.remove('Date')\n",
    "keys.remove('Open')\n",
    "keys.remove('High')\n",
    "keys.remove('Low')\n",
    "keys.remove('Close')\n",
    "keys.remove('Volume')\n",
    "keys.remove('Ticker')"
   ]
  },
  {
   "cell_type": "code",
   "execution_count": 8,
   "metadata": {},
   "outputs": [
    {
     "name": "stdout",
     "output_type": "stream",
     "text": [
      "['high1DayBefore', 'low1DayBefore', 'open1DayBefore', 'close1DayBefore', 'volume1DayBefore', 'high2DaysBefore', 'low2DaysBefore', 'open2DaysBefore', 'close2DaysBefore', 'volume2DaysBefore', 'high3DaysBefore', 'low3DaysBefore', 'open3DaysBefore', 'close3DaysBefore', 'volume3DaysBefore', 'high4DaysBefore', 'low4DaysBefore', 'open4DaysBefore', 'close4DaysBefore', 'volume4DaysBefore', 'high5DaysBefore', 'low5DaysBefore', 'open5DaysBefore', 'close5DaysBefore', 'volume5DaysBefore']\n"
     ]
    }
   ],
   "source": [
    "xes = keys\n",
    "ys = \"High\"\n",
    "print(xes)\n",
    "x = data[keys]\n",
    "y = data[ys]"
   ]
  },
  {
   "cell_type": "code",
   "execution_count": 6,
   "metadata": {},
   "outputs": [],
   "source": [
    "from sklearn.linear_model import LinearRegression"
   ]
  },
  {
   "cell_type": "code",
   "execution_count": 7,
   "metadata": {},
   "outputs": [],
   "source": [
    "reg = LinearRegression()\n"
   ]
  },
  {
   "cell_type": "code",
   "execution_count": 11,
   "metadata": {},
   "outputs": [
    {
     "data": {
      "text/plain": [
       "LinearRegression(copy_X=True, fit_intercept=True, n_jobs=None, normalize=False)"
      ]
     },
     "execution_count": 11,
     "metadata": {},
     "output_type": "execute_result"
    }
   ],
   "source": [
    "reg.fit(x,y)\n"
   ]
  },
  {
   "cell_type": "code",
   "execution_count": 12,
   "metadata": {},
   "outputs": [
    {
     "name": "stdout",
     "output_type": "stream",
     "text": [
      "[ 1.56257511e-01 -5.63931295e-02 -8.20068669e-03  9.29775696e-01\n",
      "  8.82121168e-09  5.77100546e-02 -3.83896295e-02 -3.34238282e-02\n",
      " -2.53167274e-02 -9.04467562e-09 -3.26367820e-02 -1.27989063e-01\n",
      "  8.51627174e-02  1.26477172e-01  1.10184801e-09  2.72020833e-02\n",
      "  2.42295156e-02  1.11567758e-02 -6.52869571e-02 -1.29616095e-08\n",
      " -2.88149071e-02 -1.31792178e-01  1.11717417e-01  2.73072461e-02\n",
      " -2.10409787e-09]\n"
     ]
    },
    {
     "data": {
      "text/plain": [
       "0.047248931549304984"
      ]
     },
     "execution_count": 12,
     "metadata": {},
     "output_type": "execute_result"
    }
   ],
   "source": [
    "print(reg.coef_)\n",
    "reg.intercept_"
   ]
  },
  {
   "cell_type": "code",
   "execution_count": 13,
   "metadata": {},
   "outputs": [
    {
     "ename": "AttributeError",
     "evalue": "'LinearRegression' object has no attribute 'r2'",
     "output_type": "error",
     "traceback": [
      "\u001b[1;31m---------------------------------------------------------------------------\u001b[0m",
      "\u001b[1;31mAttributeError\u001b[0m                            Traceback (most recent call last)",
      "\u001b[1;32m<ipython-input-13-fa647fc2b41d>\u001b[0m in \u001b[0;36m<module>\u001b[1;34m\u001b[0m\n\u001b[1;32m----> 1\u001b[1;33m \u001b[0mreg\u001b[0m\u001b[1;33m.\u001b[0m\u001b[0mr2\u001b[0m\u001b[1;33m\u001b[0m\u001b[1;33m\u001b[0m\u001b[0m\n\u001b[0m",
      "\u001b[1;31mAttributeError\u001b[0m: 'LinearRegression' object has no attribute 'r2'"
     ]
    }
   ],
   "source": []
  },
  {
   "cell_type": "code",
   "execution_count": null,
   "metadata": {},
   "outputs": [],
   "source": []
  }
 ],
 "metadata": {
  "kernelspec": {
   "display_name": "Python 3",
   "language": "python",
   "name": "python3"
  },
  "language_info": {
   "codemirror_mode": {
    "name": "ipython",
    "version": 3
   },
   "file_extension": ".py",
   "mimetype": "text/x-python",
   "name": "python",
   "nbconvert_exporter": "python",
   "pygments_lexer": "ipython3",
   "version": "3.7.6"
  }
 },
 "nbformat": 4,
 "nbformat_minor": 4
}
