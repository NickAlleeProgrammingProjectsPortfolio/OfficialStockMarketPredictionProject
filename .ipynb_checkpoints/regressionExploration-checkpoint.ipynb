{
 "cells": [
  {
   "cell_type": "code",
   "execution_count": 30,
   "metadata": {},
   "outputs": [],
   "source": [
    "from sklearn.linear_model import LinearRegression\n",
    "from sklearn.preprocessing import PolynomialFeatures\n",
    "from sklearn.model_selection import train_test_split\n",
    "from sklearn.metrics import mean_squared_error\n",
    "from sklearn.preprocessing import StandardScaler\n",
    "from sklearn.metrics import accuracy_score, precision_score, recall_score, f1_score\n",
    "from sklearn.model_selection import KFold\n",
    "import pandas as pd"
   ]
  },
  {
   "cell_type": "code",
   "execution_count": 62,
   "metadata": {},
   "outputs": [],
   "source": [
    "data1 = pd.read_csv(\"corvCleanDataset.csv\")\n",
    "data1.head()\n",
    "\n",
    "#making a working copy\n",
    "data = data1.copy()"
   ]
  },
  {
   "cell_type": "code",
   "execution_count": 3,
   "metadata": {},
   "outputs": [],
   "source": [
    "keys = list(data.keys())\n",
    "keys.remove('Date')\n",
    "keys.remove('Open')\n",
    "keys.remove('High')\n",
    "keys.remove('Low')\n",
    "keys.remove('Close')\n",
    "keys.remove('Volume')\n",
    "keys.remove('Ticker')"
   ]
  },
  {
   "cell_type": "code",
   "execution_count": 4,
   "metadata": {},
   "outputs": [
    {
     "name": "stdout",
     "output_type": "stream",
     "text": [
      "['high1DayBefore', 'low1DayBefore', 'open1DayBefore', 'close1DayBefore', 'volume1DayBefore', 'high2DaysBefore', 'low2DaysBefore', 'open2DaysBefore', 'close2DaysBefore', 'volume2DaysBefore', 'high3DaysBefore', 'low3DaysBefore', 'open3DaysBefore', 'close3DaysBefore', 'volume3DaysBefore', 'high4DaysBefore', 'low4DaysBefore', 'open4DaysBefore', 'close4DaysBefore', 'volume4DaysBefore', 'high5DaysBefore', 'low5DaysBefore', 'open5DaysBefore', 'close5DaysBefore', 'volume5DaysBefore']\n"
     ]
    }
   ],
   "source": [
    "xes = keys\n",
    "ys = \"High\"\n",
    "print(xes)\n",
    "train, test = train_test_split(data, test_size=0.2, random_state=42)\n",
    "x_train = train[keys]\n",
    "y_train = train[ys]\n",
    "x_test = test[keys]\n",
    "y_test = test[ys]"
   ]
  },
  {
   "cell_type": "code",
   "execution_count": 5,
   "metadata": {},
   "outputs": [
    {
     "data": {
      "text/plain": [
       "LinearRegression(copy_X=True, fit_intercept=True, n_jobs=None, normalize=False)"
      ]
     },
     "execution_count": 5,
     "metadata": {},
     "output_type": "execute_result"
    }
   ],
   "source": [
    "reg = LinearRegression()\n",
    "reg.fit(x_train,y_train)"
   ]
  },
  {
   "cell_type": "markdown",
   "metadata": {},
   "source": [
    "looking at the scores for the training set."
   ]
  },
  {
   "cell_type": "code",
   "execution_count": 13,
   "metadata": {},
   "outputs": [
    {
     "name": "stdout",
     "output_type": "stream",
     "text": [
      "[ 1.36669237e-01 -9.13318479e-02  2.80847247e-02  9.49168162e-01\n",
      "  8.69736230e-09  9.60897809e-02 -2.51944568e-02 -3.38241313e-02\n",
      " -5.37974079e-02  6.68594881e-09 -3.72473352e-02 -1.62619521e-01\n",
      "  9.12440147e-02  1.35610514e-01  1.60812940e-09 -4.33567855e-02\n",
      "  3.83924337e-04  5.47123943e-02 -1.80234943e-02 -1.18771370e-08\n",
      "  1.22912646e-03 -1.06896139e-01  7.36415087e-02  1.41508730e-02\n",
      " -1.34755570e-08]\n",
      "intercept is 0.04734706389240273\n",
      "the mean squared error is 0.8932355413448684\n",
      "r2 on the train set is 0.9973378381556776\n"
     ]
    }
   ],
   "source": [
    "print(reg.coef_)\n",
    "print(\"intercept is \" + str(reg.intercept_))\n",
    "r2Train = reg.score(x_train,y_train)\n",
    "y_train_predicted = reg.predict(x_train)\n",
    "train_ms_error = mean_squared_error(y_train, y_train_predicted)\n",
    "print(\"the mean squared error is \" + str(train_ms_error))\n",
    "print(\"r2 on the train set is \" + str(r2Train))"
   ]
  },
  {
   "cell_type": "markdown",
   "metadata": {},
   "source": [
    "### Did really good on my set overall. now i should test it on the test sets. Then i will get a more representative score."
   ]
  },
  {
   "cell_type": "code",
   "execution_count": 14,
   "metadata": {},
   "outputs": [
    {
     "name": "stdout",
     "output_type": "stream",
     "text": [
      "the mean squared error is 0.6205378485915528\n",
      "r2 on the train set is 0.9981701225951763\n"
     ]
    }
   ],
   "source": [
    "r2Test = reg.score(x_test,y_test)\n",
    "y_test_predicted = reg.predict(x_test)\n",
    "test_ms_error = mean_squared_error(y_test, y_test_predicted)\n",
    "print(\"the mean squared error is \" + str(test_ms_error))\n",
    "print(\"r2 on the train set is \" + str(r2Test))"
   ]
  },
  {
   "cell_type": "markdown",
   "metadata": {},
   "source": [
    "### Weird... The test set scored better on the r2 but worse on the mean squared error.\n",
    "\n",
    "### I think I should try to use fewer features. Mabye the volume the day before and high the day before will be good to help determine the high of the day."
   ]
  },
  {
   "cell_type": "code",
   "execution_count": 41,
   "metadata": {},
   "outputs": [
    {
     "data": {
      "image/png": "[encoded data removed]",
      "text/plain": [
       "<Figure size 432x288 with 1 Axes>"
      ]
     },
     "metadata": {},
     "output_type": "display_data"
    }
   ],
   "source": [
    "plt.plot(data[\"High\"],data[\"high1DayBefore\"])\n",
    "plt.xlabel(\"high today\")\n",
    "plt.ylabel(\"high yesterday\")\n",
    "plt.show()"
   ]
  },
  {
   "cell_type": "code",
   "execution_count": 17,
   "metadata": {},
   "outputs": [
    {
     "name": "stdout",
     "output_type": "stream",
     "text": [
      "[ 9.99016743e-01 -1.04667620e-08]\n",
      "intercept is 0.03062527135703519\n",
      "the mean squared error is 1.164180457429796\n",
      "r2 on the train set is 0.9965303252611185\n"
     ]
    }
   ],
   "source": [
    "#set x_train and x_test = train[\"high1DayBefore\",\"volume1DayBefore\"]\n",
    "x_train_limited = x_train[[\"high1DayBefore\",\"volume1DayBefore\"]]\n",
    "x_test_limited = x_test[[\"high1DayBefore\",\"volume1DayBefore\"]]\n",
    "\n",
    "limited_reg = LinearRegression()\n",
    "limited_reg.fit(x_train_limited,y_train)\n",
    "\n",
    "#looking at scores for training set\n",
    "print(limited_reg.coef_)\n",
    "print(\"intercept is \" + str(limited_reg.intercept_))\n",
    "limited_r2Train = limited_reg.score(x_train_limited,y_train)\n",
    "limited_y_train_predicted = limited_reg.predict(x_train_limited)\n",
    "limited_train_ms_error = mean_squared_error(y_train, limited_y_train_predicted)\n",
    "print(\"the mean squared error is \" + str(limited_train_ms_error))\n",
    "print(\"r2 on the train set is \" + str(limited_r2Train))"
   ]
  },
  {
   "cell_type": "markdown",
   "metadata": {},
   "source": [
    "### Now to evaluate on the test set"
   ]
  },
  {
   "cell_type": "code",
   "execution_count": 20,
   "metadata": {},
   "outputs": [
    {
     "name": "stdout",
     "output_type": "stream",
     "text": [
      "the mean squared error is 0.9421371561666239\n",
      "r2 on the train set is 0.9981701225951763\n"
     ]
    }
   ],
   "source": [
    "limited_r2Test = limited_reg.score(x_test_limited,y_test)\n",
    "limited_y_test_predicted = limited_reg.predict(x_test_limited)\n",
    "test_ms_error = mean_squared_error(y_test, limited_y_test_predicted)\n",
    "print(\"the mean squared error is \" + str(test_ms_error))\n",
    "print(\"r2 on the train set is \" + str(r2Test))"
   ]
  },
  {
   "cell_type": "markdown",
   "metadata": {},
   "source": [
    "## This scored incredibly well. There has to be overfitting somehow.\n",
    "### Try cross fold and validation."
   ]
  },
  {
   "cell_type": "code",
   "execution_count": 31,
   "metadata": {},
   "outputs": [
    {
     "name": "stdout",
     "output_type": "stream",
     "text": [
      "[0.9951618977056891, 0.9974789171611343, 0.9955903451723449, 0.9974913087038965, 0.9972759830631727, 0.9965254326457009, 0.9974650940309296, 0.9973525424090545, 0.997058650800379, 0.9951818643010383]\n"
     ]
    }
   ],
   "source": [
    "X = data[[\"high1DayBefore\",\"volume1DayBefore\"]]\n",
    "y = data[\"High\"]\n",
    "accuracies=[]\n",
    "fold = KFold(n_splits=10,shuffle=True)\n",
    "for train_i, test_i in fold.split(X):\n",
    "    x_test =  X.iloc[test_i]\n",
    "    x_train = X.iloc[train_i]\n",
    "    y_test = y.iloc[test_i]\n",
    "    y_train = y.iloc[train_i]\n",
    "    classifier = LinearRegression()\n",
    "    classifier.fit(x_train,y_train)\n",
    "    y_pred = classifier.predict(x_test)\n",
    "    r2 = classifier.score(x_test,y_test)    \n",
    "    accuracies.append(r2)\n",
    "print(accuracies)"
   ]
  },
  {
   "cell_type": "code",
   "execution_count": 42,
   "metadata": {},
   "outputs": [
    {
     "name": "stdout",
     "output_type": "stream",
     "text": [
      "[0.004466793129714097, 0.0044740213377405524, 0.003350195617582874, 0.0016252959973387382, 0.0027883212585004813, 0.0038555298040027224, 0.007805373556465268, -0.0015101414457883156, -0.01817602105704963, 0.006410341288815902]\n"
     ]
    }
   ],
   "source": [
    "X = data[[\"volume1DayBefore\"]]\n",
    "y = data[\"High\"]\n",
    "accuracies=[]\n",
    "fold = KFold(n_splits=10,shuffle=True)\n",
    "for train_i, test_i in fold.split(X):\n",
    "    x_test =  X.iloc[test_i]\n",
    "    x_train = X.iloc[train_i]\n",
    "    y_test = y.iloc[test_i]\n",
    "    y_train = y.iloc[train_i]\n",
    "    classifier = LinearRegression()\n",
    "    classifier.fit(x_train,y_train)\n",
    "    y_pred = classifier.predict(x_test)\n",
    "    r2 = classifier.score(x_test,y_test)    \n",
    "    accuracies.append(r2)\n",
    "print(accuracies)"
   ]
  },
  {
   "cell_type": "markdown",
   "metadata": {},
   "source": [
    "## i guess volume is not as important as I thought. "
   ]
  },
  {
   "cell_type": "code",
   "execution_count": 43,
   "metadata": {},
   "outputs": [
    {
     "name": "stdout",
     "output_type": "stream",
     "text": [
      "[0.9958547840202671, 0.9890919393920957, 0.9959959843139894, 0.996446651819915, 0.9939940798780359, 0.9928021050500538, 0.9938235193409751, 0.9911396939581111, 0.9938934065350341, 0.9964586119016504]\n"
     ]
    }
   ],
   "source": [
    "X = data[[\"high2DaysBefore\"]]\n",
    "y = data[\"High\"]\n",
    "accuracies=[]\n",
    "fold = KFold(n_splits=10,shuffle=True)\n",
    "for train_i, test_i in fold.split(X):\n",
    "    x_test =  X.iloc[test_i]\n",
    "    x_train = X.iloc[train_i]\n",
    "    y_test = y.iloc[test_i]\n",
    "    y_train = y.iloc[train_i]\n",
    "    classifier = LinearRegression()\n",
    "    classifier.fit(x_train,y_train)\n",
    "    y_pred = classifier.predict(x_test)\n",
    "    r2 = classifier.score(x_test,y_test)    \n",
    "    accuracies.append(r2)\n",
    "print(accuracies)"
   ]
  },
  {
   "cell_type": "code",
   "execution_count": 44,
   "metadata": {},
   "outputs": [
    {
     "name": "stdout",
     "output_type": "stream",
     "text": [
      "[0.9918840774544883, 0.9929974346996513, 0.9891747104209399, 0.9903905604554528, 0.9907120493877675, 0.9890386498446292, 0.991775737573414, 0.9923347129128295, 0.991997050998393, 0.9905238552072538]\n"
     ]
    }
   ],
   "source": [
    "X = data[[\"high3DaysBefore\"]]\n",
    "y = data[\"High\"]\n",
    "accuracies=[]\n",
    "fold = KFold(n_splits=10,shuffle=True)\n",
    "for train_i, test_i in fold.split(X):\n",
    "    x_test =  X.iloc[test_i]\n",
    "    x_train = X.iloc[train_i]\n",
    "    y_test = y.iloc[test_i]\n",
    "    y_train = y.iloc[train_i]\n",
    "    classifier = LinearRegression()\n",
    "    classifier.fit(x_train,y_train)\n",
    "    y_pred = classifier.predict(x_test)\n",
    "    r2 = classifier.score(x_test,y_test)    \n",
    "    accuracies.append(r2)\n",
    "print(accuracies)"
   ]
  },
  {
   "cell_type": "code",
   "execution_count": 45,
   "metadata": {},
   "outputs": [
    {
     "name": "stdout",
     "output_type": "stream",
     "text": [
      "[0.9863273653350223, 0.9899908339005798, 0.988886535541763, 0.990268367691924, 0.9867504250584607, 0.9837766623650355, 0.9866294727427612, 0.9891453181216496, 0.9931558806072888, 0.9881463737881406]\n"
     ]
    }
   ],
   "source": [
    "X = data[[\"high4DaysBefore\"]]\n",
    "y = data[\"High\"]\n",
    "accuracies=[]\n",
    "fold = KFold(n_splits=10,shuffle=True)\n",
    "for train_i, test_i in fold.split(X):\n",
    "    x_test =  X.iloc[test_i]\n",
    "    x_train = X.iloc[train_i]\n",
    "    y_test = y.iloc[test_i]\n",
    "    y_train = y.iloc[train_i]\n",
    "    classifier = LinearRegression()\n",
    "    classifier.fit(x_train,y_train)\n",
    "    y_pred = classifier.predict(x_test)\n",
    "    r2 = classifier.score(x_test,y_test)    \n",
    "    accuracies.append(r2)\n",
    "print(accuracies)"
   ]
  },
  {
   "cell_type": "markdown",
   "metadata": {},
   "source": [
    "## Try polynomial features"
   ]
  },
  {
   "cell_type": "code",
   "execution_count": 32,
   "metadata": {},
   "outputs": [
    {
     "name": "stdout",
     "output_type": "stream",
     "text": [
      "r2 score for poly terms is 0.9968844868966706\n",
      "the mean squared error is 1.036365325505018   out of 1\n"
     ]
    }
   ],
   "source": [
    "reg_plus_quad = LinearRegression()\n",
    "create_quad_terms = PolynomialFeatures(degree=2, include_bias=False)\n",
    "X_quad_terms = create_quad_terms.fit_transform(x_train)\n",
    "               \n",
    "reg_plus_quad.fit(X_quad_terms, y_train)\n",
    "print(\"r2 score for poly terms is \" + str(reg_plus_quad.score(X_quad_terms,y_train)))\n",
    "\n",
    "y_predicted = reg_plus_quad.predict(X_quad_terms)\n",
    "rms_error = mean_squared_error(y_train, y_predicted)\n",
    "print(\"the mean squared error is \"+ str(rms_error) + \"   out of 1\")"
   ]
  },
  {
   "cell_type": "markdown",
   "metadata": {},
   "source": [
    "# How is this above 1???"
   ]
  },
  {
   "cell_type": "markdown",
   "metadata": {},
   "source": [
    "## now test the model on the test set after making the test x polynomial"
   ]
  },
  {
   "cell_type": "code",
   "execution_count": 34,
   "metadata": {},
   "outputs": [
    {
     "name": "stdout",
     "output_type": "stream",
     "text": [
      "The test set r2 score for poly terms is 0.9951999109806285\n"
     ]
    }
   ],
   "source": [
    "create_quad_terms_test = PolynomialFeatures(degree=2, include_bias=False)\n",
    "X_quad_terms_test = create_quad_terms.fit_transform(x_test)\n",
    "print(\"The test set r2 score for poly terms is \" + str(reg_plus_quad.score(X_quad_terms_test,y_test)))"
   ]
  },
  {
   "cell_type": "markdown",
   "metadata": {},
   "source": [
    "## lets scale all this data... do i scale the y as well or add it on after scaling??\n"
   ]
  },
  {
   "cell_type": "code",
   "execution_count": 51,
   "metadata": {},
   "outputs": [
    {
     "name": "stdout",
     "output_type": "stream",
     "text": [
      "Index(['Date', 'Open', 'High', 'Low', 'Close', 'Volume', 'high1DayBefore',\n",
      "       'low1DayBefore', 'open1DayBefore', 'close1DayBefore',\n",
      "       'volume1DayBefore', 'high2DaysBefore', 'low2DaysBefore',\n",
      "       'open2DaysBefore', 'close2DaysBefore', 'volume2DaysBefore',\n",
      "       'high3DaysBefore', 'low3DaysBefore', 'open3DaysBefore',\n",
      "       'close3DaysBefore', 'volume3DaysBefore', 'high4DaysBefore',\n",
      "       'low4DaysBefore', 'open4DaysBefore', 'close4DaysBefore',\n",
      "       'volume4DaysBefore', 'high5DaysBefore', 'low5DaysBefore',\n",
      "       'open5DaysBefore', 'close5DaysBefore', 'volume5DaysBefore', 'Ticker'],\n",
      "      dtype='object')\n"
     ]
    }
   ],
   "source": [
    "print(data.keys())"
   ]
  },
  {
   "cell_type": "code",
   "execution_count": 66,
   "metadata": {},
   "outputs": [
    {
     "name": "stdout",
     "output_type": "stream",
     "text": [
      "Index(['Open', 'Low', 'Close', 'Volume', 'high1DayBefore', 'low1DayBefore',\n",
      "       'open1DayBefore', 'close1DayBefore', 'volume1DayBefore',\n",
      "       'high2DaysBefore', 'low2DaysBefore', 'open2DaysBefore',\n",
      "       'close2DaysBefore', 'volume2DaysBefore', 'high3DaysBefore',\n",
      "       'low3DaysBefore', 'open3DaysBefore', 'close3DaysBefore',\n",
      "       'volume3DaysBefore', 'high4DaysBefore', 'low4DaysBefore',\n",
      "       'open4DaysBefore', 'close4DaysBefore', 'volume4DaysBefore',\n",
      "       'high5DaysBefore', 'low5DaysBefore', 'open5DaysBefore',\n",
      "       'close5DaysBefore', 'volume5DaysBefore'],\n",
      "      dtype='object')\n"
     ]
    }
   ],
   "source": [
    "## remove all columns im not using to predict\n",
    "data_trimmed = data.drop(['High','Date','Ticker'], axis = 1)\n",
    "print(data_trimmed.keys())\n",
    "#grab the keys of the columns im using to predict\n",
    "xes = data.keys()\n",
    "## perform the scaler fit transforem\n",
    "data_frame_scaled = StandardScaler().fit_transform(data_trimmed.values) #this is not a dataframe...\n",
    "## make a dictionary of zip of keys and scaled dataframe\n",
    "data_frame_scaled_dict = dict(zip(xes,data_frame_scaled))\n",
    "## turn it into a dataframe\n",
    "scaled_data_frame_final = pd.DataFrame(data_frame_scaled_dict)\n",
    "## add back the column im predicting\n",
    "scaled_data_frame_final[\"High\"] = data['High']\n",
    "scaled_data_frame_final[\"Ticker\"] = data['Ticker']"
   ]
  },
  {
   "cell_type": "code",
   "execution_count": 65,
   "metadata": {},
   "outputs": [
    {
     "name": "stdout",
     "output_type": "stream",
     "text": [
      "Index(['Date', 'Open', 'High', 'Low', 'Close', 'Volume', 'high1DayBefore',\n",
      "       'low1DayBefore', 'open1DayBefore', 'close1DayBefore',\n",
      "       'volume1DayBefore', 'high2DaysBefore', 'low2DaysBefore',\n",
      "       'open2DaysBefore', 'close2DaysBefore', 'volume2DaysBefore',\n",
      "       'high3DaysBefore', 'low3DaysBefore', 'open3DaysBefore',\n",
      "       'close3DaysBefore', 'volume3DaysBefore', 'high4DaysBefore',\n",
      "       'low4DaysBefore', 'open4DaysBefore', 'close4DaysBefore',\n",
      "       'volume4DaysBefore', 'high5DaysBefore', 'low5DaysBefore',\n",
      "       'open5DaysBefore', 'close5DaysBefore', 'volume5DaysBefore', 'Ticker'],\n",
      "      dtype='object')\n",
      "       Date      Open   High  ...  close5DaysBefore  volume5DaysBefore  Ticker\n",
      "0 -0.207890 -0.199546  15.85  ...          0.009064           0.050786    CORV\n",
      "1 -0.185030 -0.176500  16.20  ...          0.036750           0.048123    CORV\n",
      "2 -0.206938 -0.187457  17.50  ...          0.010139           0.024054    CORV\n",
      "3 -0.132699 -0.131510  17.50  ...         -0.132778          -0.132382    CORV\n",
      "4 -0.228013 -0.228013  18.75  ...         -0.001681          -0.015316    CORV\n",
      "5 -0.185265 -0.185265  19.25  ...          0.036544           0.036544    CORV\n",
      "6 -0.208123 -0.208123  19.75  ...          0.008860           0.008860    CORV\n",
      "7 -0.207172 -0.207172  20.00  ...          0.009934           0.009934    CORV\n",
      "8 -0.131905 -0.131825  20.00  ...         -0.130382          -0.131905    CORV\n",
      "9 -0.228240 -0.228240  19.50  ...          0.066301          -0.001880    CORV\n",
      "\n",
      "[10 rows x 32 columns]\n",
      "0       15.8500\n",
      "1       16.0000\n",
      "2       16.2000\n",
      "3       16.5000\n",
      "4       17.5000\n",
      "         ...   \n",
      "4174     0.2700\n",
      "4175     0.2700\n",
      "4176     0.3100\n",
      "4177     0.3400\n",
      "4178     0.3311\n",
      "Name: Low, Length: 4179, dtype: float64\n"
     ]
    }
   ],
   "source": [
    "print(scaled_data_frame_final.keys())\n",
    "print(scaled_data_frame_final.head(n=10))\n",
    "print(data['Low'])"
   ]
  },
  {
   "cell_type": "markdown",
   "metadata": {},
   "source": [
    "Since i printed out low it does not look scaled. Why is this??"
   ]
  },
  {
   "cell_type": "markdown",
   "metadata": {},
   "source": [
    "#### lastly i will try elastic regression"
   ]
  },
  {
   "cell_type": "code",
   "execution_count": null,
   "metadata": {},
   "outputs": [],
   "source": []
  }
 ],
 "metadata": {
  "kernelspec": {
   "display_name": "Python 3 (Spyder)",
   "language": "python3",
   "name": "python3"
  },
  "language_info": {
   "codemirror_mode": {
    "name": "ipython",
    "version": 3
   },
   "file_extension": ".py",
   "mimetype": "text/x-python",
   "name": "python",
   "nbconvert_exporter": "python",
   "pygments_lexer": "ipython3",
   "version": "3.7.6"
  }
 },
 "nbformat": 4,
 "nbformat_minor": 4
}
