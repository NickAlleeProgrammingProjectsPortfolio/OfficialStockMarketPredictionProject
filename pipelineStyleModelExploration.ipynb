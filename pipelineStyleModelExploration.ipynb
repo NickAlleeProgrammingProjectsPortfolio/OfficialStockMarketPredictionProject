{
 "cells": [
  {
   "cell_type": "code",
   "execution_count": 1,
   "metadata": {},
   "outputs": [],
   "source": [
    "from sklearn.linear_model import LinearRegression\n",
    "from sklearn.preprocessing import PolynomialFeatures\n",
    "from sklearn.model_selection import train_test_split\n",
    "from sklearn.metrics import mean_squared_error\n",
    "from sklearn.preprocessing import StandardScaler\n",
    "from sklearn.metrics import accuracy_score, precision_score, recall_score, f1_score\n",
    "from sklearn.model_selection import KFold\n",
    "from sklearn.linear_model import ElasticNet\n",
    "import pandas as pd"
   ]
  },
  {
   "cell_type": "code",
   "execution_count": 2,
   "metadata": {},
   "outputs": [],
   "source": [
    "data1 = pd.read_csv(\"corvCleanDataset.csv\")\n",
    "data1.head()\n",
    "\n",
    "#making a working copy\n",
    "data = data1.copy()"
   ]
  },
  {
   "cell_type": "code",
   "execution_count": 3,
   "metadata": {},
   "outputs": [],
   "source": [
    "keys = list(data.keys())\n",
    "keys.remove('Date')\n",
    "keys.remove('Open')\n",
    "keys.remove('High')\n",
    "keys.remove('Low')\n",
    "keys.remove('Close')\n",
    "keys.remove('Volume')\n",
    "keys.remove('Ticker')"
   ]
  },
  {
   "cell_type": "code",
   "execution_count": 4,
   "metadata": {},
   "outputs": [
    {
     "name": "stdout",
     "output_type": "stream",
     "text": [
      "['high1DayBefore', 'low1DayBefore', 'open1DayBefore', 'close1DayBefore', 'volume1DayBefore', 'high2DaysBefore', 'low2DaysBefore', 'open2DaysBefore', 'close2DaysBefore', 'volume2DaysBefore', 'high3DaysBefore', 'low3DaysBefore', 'open3DaysBefore', 'close3DaysBefore', 'volume3DaysBefore', 'high4DaysBefore', 'low4DaysBefore', 'open4DaysBefore', 'close4DaysBefore', 'volume4DaysBefore', 'high5DaysBefore', 'low5DaysBefore', 'open5DaysBefore', 'close5DaysBefore', 'volume5DaysBefore']\n"
     ]
    }
   ],
   "source": [
    "xes = keys\n",
    "ys = \"High\"\n",
    "print(xes)\n",
    "train, test = train_test_split(data, test_size=0.2, random_state=42)\n",
    "x_train = train[keys]\n",
    "y_train = train[ys]\n",
    "x_test = test[keys]\n",
    "y_test = test[ys]"
   ]
  },
  {
   "cell_type": "code",
   "execution_count": 5,
   "metadata": {},
   "outputs": [
    {
     "data": {
      "text/plain": [
       "LinearRegression(copy_X=True, fit_intercept=True, n_jobs=None, normalize=False)"
      ]
     },
     "execution_count": 5,
     "metadata": {},
     "output_type": "execute_result"
    }
   ],
   "source": [
    "reg = LinearRegression()\n",
    "reg.fit(x_train,y_train)"
   ]
  },
  {
   "cell_type": "markdown",
   "metadata": {},
   "source": [
    "looking at the scores for the training set."
   ]
  },
  {
   "cell_type": "code",
   "execution_count": 6,
   "metadata": {},
   "outputs": [
    {
     "name": "stdout",
     "output_type": "stream",
     "text": [
      "[ 1.36669237e-01 -9.13318479e-02  2.80847247e-02  9.49168162e-01\n",
      "  8.69736230e-09  9.60897809e-02 -2.51944568e-02 -3.38241313e-02\n",
      " -5.37974079e-02  6.68594881e-09 -3.72473352e-02 -1.62619521e-01\n",
      "  9.12440147e-02  1.35610514e-01  1.60812940e-09 -4.33567855e-02\n",
      "  3.83924337e-04  5.47123943e-02 -1.80234943e-02 -1.18771370e-08\n",
      "  1.22912646e-03 -1.06896139e-01  7.36415087e-02  1.41508730e-02\n",
      " -1.34755570e-08]\n",
      "intercept is 0.04734706389240273\n",
      "the mean squared error is 0.8932355413448684\n",
      "r2 on the train set is 0.9973378381556776\n"
     ]
    }
   ],
   "source": [
    "print(reg.coef_)\n",
    "print(\"intercept is \" + str(reg.intercept_))\n",
    "r2Train = reg.score(x_train,y_train)\n",
    "y_train_predicted = reg.predict(x_train)\n",
    "train_ms_error = mean_squared_error(y_train, y_train_predicted)\n",
    "print(\"the mean squared error is \" + str(train_ms_error))\n",
    "print(\"r2 on the train set is \" + str(r2Train))"
   ]
  },
  {
   "cell_type": "markdown",
   "metadata": {},
   "source": [
    "### Did really good on my set overall. now i should test it on the test sets. Then i will get a more representative score."
   ]
  },
  {
   "cell_type": "code",
   "execution_count": 7,
   "metadata": {},
   "outputs": [
    {
     "name": "stdout",
     "output_type": "stream",
     "text": [
      "the mean squared error is 0.6205378485915528\n",
      "r2 on the train set is 0.9981701225951763\n"
     ]
    }
   ],
   "source": [
    "r2Test = reg.score(x_test,y_test)\n",
    "y_test_predicted = reg.predict(x_test)\n",
    "test_ms_error = mean_squared_error(y_test, y_test_predicted)\n",
    "print(\"the mean squared error is \" + str(test_ms_error))\n",
    "print(\"r2 on the train set is \" + str(r2Test))"
   ]
  },
  {
   "cell_type": "code",
   "execution_count": 14,
   "metadata": {},
   "outputs": [],
   "source": [
    "from sklearn.model_selection import cross_val_score\n",
    "import numpy as np\n",
    "from sklearn.tree import DecisionTreeRegressor\n",
    "tree_reg = DecisionTreeRegressor()\n",
    "scores = cross_val_score(tree_reg,data[keys],data[ys],scoring=\"neg_mean_squared_error\",cv=10)\n",
    "tree_rmse_scores = np.sqrt(-scores)"
   ]
  },
  {
   "cell_type": "code",
   "execution_count": 15,
   "metadata": {},
   "outputs": [
    {
     "name": "stdout",
     "output_type": "stream",
     "text": [
      "[2.00768708 2.72133384 3.24556562 2.13302383 1.74658416 0.98893798\n",
      " 0.3452369  0.50240784 0.19326024 0.5774038 ]\n"
     ]
    }
   ],
   "source": [
    "print(tree_rmse_scores)"
   ]
  },
  {
   "cell_type": "markdown",
   "metadata": {},
   "source": [
    "grid search "
   ]
  },
  {
   "cell_type": "code",
   "execution_count": 25,
   "metadata": {},
   "outputs": [
    {
     "data": {
      "text/plain": [
       "0.9996811536021173"
      ]
     },
     "execution_count": 25,
     "metadata": {},
     "output_type": "execute_result"
    }
   ],
   "source": [
    "from sklearn.model_selection import GridSearchCV\n",
    "from sklearn.ensemble import RandomForestRegressor\n",
    "\n",
    "param_grid = [{'n_estimators': [50,60,80,100,200], 'max_features': [8,10,11,12,13,14,15,20]},\n",
    "             {'bootstrap': [False], 'n_estimators': [50,60,80,100,200], 'max_features': [8,10,11,12,13,14,15,20]},]\n",
    "forest_reg = RandomForestRegressor()\n",
    "grid_search = GridSearchCV(forest_reg, param_grid,cv=5,scoring='neg_mean_squared_error')\n",
    "grid_search.fit(data[keys],data[ys])\n",
    "best = grid_search.best_estimator_\n",
    "best.score(test[keys],test[ys])"
   ]
  },
  {
   "cell_type": "code",
   "execution_count": 22,
   "metadata": {},
   "outputs": [
    {
     "data": {
      "text/plain": [
       "{'max_features': 8, 'n_estimators': 50}"
      ]
     },
     "execution_count": 22,
     "metadata": {},
     "output_type": "execute_result"
    }
   ],
   "source": [
    "grid_search.best_params_"
   ]
  },
  {
   "cell_type": "code",
   "execution_count": 23,
   "metadata": {},
   "outputs": [],
   "source": [
    "best = grid_search.best_estimator_"
   ]
  },
  {
   "cell_type": "code",
   "execution_count": 24,
   "metadata": {},
   "outputs": [
    {
     "data": {
      "text/plain": [
       "0.9996392239997798"
      ]
     },
     "execution_count": 24,
     "metadata": {},
     "output_type": "execute_result"
    }
   ],
   "source": [
    "best.score(test[keys],test[ys])"
   ]
  },
  {
   "cell_type": "code",
   "execution_count": null,
   "metadata": {},
   "outputs": [],
   "source": []
  }
 ],
 "metadata": {
  "kernelspec": {
   "display_name": "Python 3",
   "language": "python",
   "name": "python3"
  },
  "language_info": {
   "codemirror_mode": {
    "name": "ipython",
    "version": 3
   },
   "file_extension": ".py",
   "mimetype": "text/x-python",
   "name": "python",
   "nbconvert_exporter": "python",
   "pygments_lexer": "ipython3",
   "version": "3.7.6"
  }
 },
 "nbformat": 4,
 "nbformat_minor": 4
}
